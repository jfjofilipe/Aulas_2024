{
  "nbformat": 4,
  "nbformat_minor": 0,
  "metadata": {
    "colab": {
      "provenance": [],
      "include_colab_link": true
    },
    "kernelspec": {
      "name": "python3",
      "display_name": "Python 3"
    },
    "language_info": {
      "name": "python"
    }
  },
  "cells": [
    {
      "cell_type": "markdown",
      "metadata": {
        "id": "view-in-github",
        "colab_type": "text"
      },
      "source": [
        "<a href=\"https://colab.research.google.com/github/jfjofilipe/Aulas_2024/blob/main/salesman_pso.ipynb\" target=\"_parent\"><img src=\"https://colab.research.google.com/assets/colab-badge.svg\" alt=\"Open In Colab\"/></a>"
      ]
    },
    {
      "cell_type": "markdown",
      "metadata": {
        "id": "dvmxaw69_jKV"
      },
      "source": [
        "# **Otimização por Enxame de Partículas**\n",
        "> A Otimização por Enxame de Partículas, *Particle Swarm Optimization* - PSO, simula o comportamento social de um bando de pássaros à procura de um alvo (alimento, local para pouso, proteção contra predadores, entre outros) (Figura 1).\n",
        "\n",
        "Figura 1. Inspiração natural do PSO\n",
        "\n",
        "<img src=\"https://drive.google.com/uc?id=1Djc8LR0wVPiqW3LJfCKI5-UNPTrlUDuT\" width=\"500\">\n",
        "\n",
        "> A PSO é um conjunto de algoritmos populacionais\n",
        "* A população é chamada de “enxame”\n",
        "* Os indivíduos são chamados de “partículas”\n",
        "\n",
        "> As Partículas possuem posição e velocidade (A posição\n",
        "muda ao longo do tempo). As partículas “voam” pelo espaço de busca multidimensional. Durante o “voo”, cada\n",
        "partícula ajusta sua posição de acordo com sua experiência e a de partículas vizinhas. Apesar da estrutura simples dos indivíduos, o exame, graças a cooperação entre esses, é capaz de resolver problemas complexos.\n",
        "\n",
        "> O presente notebook colab, escrito por Alison Zille Lopes, pretende introduzir à PSO. A codificação foi baseada na biblioteca PySwarms e na documentação presente em {1}.\n",
        ">* Abaixo podemos visualizar a importação dos pacotes e módulos necessários.\n",
        "---\n",
        "{1} MIRANDA, L., J., V. Welcome to PySwarms's documentation. Disponível em: https://pyswarms.readthedocs.io/en/latest/index.html. Acesso em: 23 abr 2021."
      ]
    },
    {
      "cell_type": "code",
      "metadata": {
        "colab": {
          "base_uri": "https://localhost:8080/"
        },
        "id": "c7qsyqJC_YMV",
        "outputId": "84c983d5-b8d9-47dc-a1f3-0bb8407ec18d"
      },
      "source": [
        "#[1] Importando pacotes e módulos\n",
        "\n",
        "# instalando pacote\n",
        "!pip install pyswarms\n",
        "\n",
        "# importando módulos\n",
        "import sys\n",
        "import numpy as np\n",
        "import matplotlib.pyplot as plt\n",
        "import random\n",
        "\n",
        "# importando PySwarms\n",
        "import pyswarms as ps"
      ],
      "execution_count": null,
      "outputs": [
        {
          "output_type": "stream",
          "name": "stdout",
          "text": [
            "Collecting pyswarms\n",
            "  Downloading pyswarms-1.3.0-py2.py3-none-any.whl (104 kB)\n",
            "\u001b[?25l\r\u001b[K     |███▏                            | 10 kB 16.7 MB/s eta 0:00:01\r\u001b[K     |██████▎                         | 20 kB 20.9 MB/s eta 0:00:01\r\u001b[K     |█████████▍                      | 30 kB 23.9 MB/s eta 0:00:01\r\u001b[K     |████████████▋                   | 40 kB 26.6 MB/s eta 0:00:01\r\u001b[K     |███████████████▊                | 51 kB 28.6 MB/s eta 0:00:01\r\u001b[K     |██████████████████▉             | 61 kB 30.6 MB/s eta 0:00:01\r\u001b[K     |██████████████████████          | 71 kB 32.2 MB/s eta 0:00:01\r\u001b[K     |█████████████████████████▏      | 81 kB 33.4 MB/s eta 0:00:01\r\u001b[K     |████████████████████████████▎   | 92 kB 35.2 MB/s eta 0:00:01\r\u001b[K     |███████████████████████████████▌| 102 kB 37.2 MB/s eta 0:00:01\r\u001b[K     |████████████████████████████████| 104 kB 37.2 MB/s \n",
            "\u001b[?25hRequirement already satisfied: scipy in /usr/local/lib/python3.7/dist-packages (from pyswarms) (1.4.1)\n",
            "Requirement already satisfied: attrs in /usr/local/lib/python3.7/dist-packages (from pyswarms) (21.2.0)\n",
            "Requirement already satisfied: numpy in /usr/local/lib/python3.7/dist-packages (from pyswarms) (1.19.5)\n",
            "Requirement already satisfied: matplotlib>=1.3.1 in /usr/local/lib/python3.7/dist-packages (from pyswarms) (3.2.2)\n",
            "Requirement already satisfied: future in /usr/local/lib/python3.7/dist-packages (from pyswarms) (0.16.0)\n",
            "Requirement already satisfied: pyyaml in /usr/local/lib/python3.7/dist-packages (from pyswarms) (3.13)\n",
            "Requirement already satisfied: tqdm in /usr/local/lib/python3.7/dist-packages (from pyswarms) (4.62.0)\n",
            "Requirement already satisfied: pyparsing!=2.0.4,!=2.1.2,!=2.1.6,>=2.0.1 in /usr/local/lib/python3.7/dist-packages (from matplotlib>=1.3.1->pyswarms) (2.4.7)\n",
            "Requirement already satisfied: python-dateutil>=2.1 in /usr/local/lib/python3.7/dist-packages (from matplotlib>=1.3.1->pyswarms) (2.8.2)\n",
            "Requirement already satisfied: cycler>=0.10 in /usr/local/lib/python3.7/dist-packages (from matplotlib>=1.3.1->pyswarms) (0.10.0)\n",
            "Requirement already satisfied: kiwisolver>=1.0.1 in /usr/local/lib/python3.7/dist-packages (from matplotlib>=1.3.1->pyswarms) (1.3.1)\n",
            "Requirement already satisfied: six in /usr/local/lib/python3.7/dist-packages (from cycler>=0.10->matplotlib>=1.3.1->pyswarms) (1.15.0)\n",
            "Installing collected packages: pyswarms\n",
            "Successfully installed pyswarms-1.3.0\n"
          ]
        }
      ]
    },
    {
      "cell_type": "markdown",
      "metadata": {
        "id": "YJrqb9x3KtqW"
      },
      "source": [
        "#**Aplicação:** Solução do Problema do Caixeiro Viajante\n",
        "> O algoritmo original da otimização por enxame de partículas foi criado para a solução de problemas que envolvam variáveis contínuas. Entretanto, como muitos problemas do mundo real são discretos, existem versões modificadas do PSO, como o BinPSO, para a aplicação a esses problemas.\n",
        "\n",
        "> Assim, o clássico **Problema do Caixeiro Viajante** foi escolhido para a aplicação do BinPSO. O **Problema do Caixeiro Viajante**, ou *Travelling Salesman Problem*, reside no objetivo de encontrar a menor rota possível para visitar um conjunto de cidades, passando por cada uma delas uma única vez, e retornar à origem.\n",
        "* O espaço de estados para esse problema pode ser representado por um grafo completamente conexo. Os vértices são as cidades e as arestas representam vias entre cidades, havendo uma distância (custo) associada.\n",
        "* O trecho de código abaixo gera um grafo para o problema do caixeiro viajante.\n",
        "  * O usuário pode escolher o número de cidades.\n",
        "  * O grafo é gerado como uma lista de arestas, sendo as arestas tuplas compostas pelos vértices e o comprimento da aresta.\n",
        "    * (v1, v2, dist), sendo v1 e v2 vértices e dist o comprimento da aresta.\n",
        "    * O comprimento da aresta é definido aleatoriamento no intervalo [10, 100].\n",
        "\n",
        "> A função de aptidão, ou função custo, também está presente na codificação abaixo. Essa, chamada evalRoutes, recebe as posições de cada partícula (rotas), retornando o custo.\n",
        "* As posições são sequências binárias, baseadas na representação do grafo anterior, que indicam quais arestas fazem parte da rota."
      ]
    },
    {
      "cell_type": "code",
      "metadata": {
        "colab": {
          "base_uri": "https://localhost:8080/"
        },
        "id": "LSV2q3OGMWaO",
        "outputId": "3f1025de-0add-4ecc-83a3-975822c65f7f"
      },
      "source": [
        "#[2] Geração do Grafo e Função de Custo\n",
        "\n",
        "# função graphTSP(numCities, minDist, maxDist)\n",
        "# parâmetros:\n",
        "#   numCities: número de cities\n",
        "#   minDist: menor valor de distância\n",
        "#   maxDist: maior valor de distância\n",
        "# retorno:\n",
        "#   roads: lista de estradas - arestas: (cidade1, cidade2, distância). As distâncias\n",
        "#   entre duas cidades são determinadas aleatoriamente entre minDist e maxDist\n",
        "def graphTSP(numCities, minDist, maxDist):\n",
        "  roads = []\n",
        "  for i in range(numCities):\n",
        "    for j in range(i+1, numCities):\n",
        "      roads.append((i, j, random.randint(minDist, maxDist)))\n",
        "  return roads\n",
        "\n",
        "numCities = 5     #  Número de cidade inicial\n",
        "\n",
        "while(True):\n",
        "  numCities = int(input('Digite o número de cidades [>4]: '))\n",
        "  if (numCities > 4):\n",
        "    break\n",
        "  else:\n",
        "    print('O número de cidades deve ser maior que 4!')\n",
        "\n",
        "roads = graphTSP(numCities, 10, 100)\n",
        "\n",
        "\n",
        "# Função evalRoutes(particles)\n",
        "# parâmetros:\n",
        "#   particles: array (numpy.ndarray) de posições das partículas (rotas)\n",
        "# retorno:\n",
        "#   costs: lista de custos para cada partícula.\n",
        "def evalRoutes(particles):\n",
        "  costs = []\n",
        "  for individual in particles:\n",
        "    cost = 0;\n",
        "\n",
        "    validArcs = np.where(individual == 1)[0]\n",
        "\n",
        "    for arc in validArcs:\n",
        "      cost = cost + roads[arc][2]\n",
        "\n",
        "    for i in range(numCities):\n",
        "      count = 0\n",
        "      for arc in validArcs:\n",
        "        if (roads[arc][0]==i or roads[arc][1]==i):\n",
        "          count = count + 1\n",
        "      if(count!=2):\n",
        "        cost = cost + 10000\n",
        "\n",
        "    if(sum(individual)!=numCities):\n",
        "      cost = cost + 10000\n",
        "    else:\n",
        "      # identificar a ocorrência de ciclos\n",
        "      validArcs = list(validArcs)\n",
        "      current = validArcs[0]\n",
        "      visited = [roads[current][0]]\n",
        "      while(len(validArcs)>1):\n",
        "        node = roads[current][1]\n",
        "        if (not roads[current][0] in visited):\n",
        "          node = roads[current][0]\n",
        "        elif (roads[current][1] in visited):\n",
        "          cost = cost + 10000\n",
        "          break\n",
        "        visited.append(node)\n",
        "        validArcs.remove(current)\n",
        "        for arc in validArcs:\n",
        "          if (node == roads[arc][0] or node == roads[arc][1]):\n",
        "            current = arc\n",
        "            break\n",
        "\n",
        "    costs.append(cost)\n",
        "\n",
        "  return costs\n",
        "\n",
        "print('Grafo:')\n",
        "for road in roads:\n",
        "  print(road)"
      ],
      "execution_count": null,
      "outputs": [
        {
          "output_type": "stream",
          "text": [
            "Digite o número de cidades [>4]: 5\n",
            "Grafo:\n",
            "(0, 1, 66)\n",
            "(0, 2, 31)\n",
            "(0, 3, 75)\n",
            "(0, 4, 44)\n",
            "(1, 2, 35)\n",
            "(1, 3, 28)\n",
            "(1, 4, 77)\n",
            "(2, 3, 96)\n",
            "(2, 4, 30)\n",
            "(3, 4, 33)\n"
          ],
          "name": "stdout"
        }
      ]
    },
    {
      "cell_type": "markdown",
      "metadata": {
        "id": "vwvhtdFuOEFv"
      },
      "source": [
        "#**Processamento da PSO**\n",
        ">O processamento do algoritmo básico da otimização por enxame de partículas é expresso de forma simplificada na Figura 3.\n",
        "\n",
        "Figura 3. PSO simplificado\n",
        "\n",
        "<img src=\"https://drive.google.com/uc?id=1q3BNyAoAtXFem4y5Fe76A2qzB9A2_1t0\" width=\"500\">\n",
        "\n",
        ">A Figura 4 traz o pseudocódigo para esse algoritmo, o qual baseia-se na notação:\n",
        "* $x_i$, posição da partícula $i$\n",
        "  * $x_i = [x_{i,1}; x_{i,2}; ...;x_{i,n}]$\n",
        "* $v_i$, velocidade da partícula $i$\n",
        "  * $v_i = [v_{i,1}; v_{i,2}; ...;v_{i,n}]$\n",
        "* $f(x_i)$, aptição da partícula $i$\n",
        "* $m$, tamanho da população (enxame) de partículas\n",
        "* $p_i$, ($pbest_i$, $personal best$) a melhor posição encontrada pela partícula $i$\n",
        "  * As partículas precisam “guardar” qual sua melhor posição.\n",
        "* $g$, ($gbest$, $global best$) a melhor posição guardada por todas as partículas.\n",
        "* $c_1$ e $c_2$, parâmetros cognitivos e sociais (também chamados de taxas de aprendizagem)\n",
        "* $W$, ponderação de inércia\n",
        "* $r_{1,d}$ e $r_{2,d}$, números aleatórios entre 0 e 1\n",
        "\n",
        "Figura 4. Pseudocódigo da PSO\n",
        "\n",
        "<img src=\"https://drive.google.com/uc?id=14lR-elAxd2CedG--aYjhREG2IumxreOk\" width=\"700\">\n",
        "\n",
        ">A atualização da velocidade pode ser expressa por Eq. 1:\n",
        "* $v_{i,d}(t+1)=W.v_{i,d}(t)+c_1r_{1,d}(p_{i,d}(t)-x_{i,d}(t))+c_2r_{2,d}(g_d(t)–x_{i,d}(t))$\n",
        "  * O impacto de $W$ depende, também, dos valores selecionados para $c_1$ e $c_2$. A escolha desses parâmetros determinará se o enxame irá se concentrar na livre exploração ou em aproveitar regiões com boas soluções já encontradas.\n",
        "\n",
        "> Uma vez atualizada a velocidade da partícula $i$, é hora de atualizar a posição por Eq. 2 (Equação da posição para BinPSO):\n",
        "* $x_{i,d}(t + 1) = \\{1, se\\ U(0,1)<sig(v_{i,d}(t+1)); 0,\\ em\\ caso\\ contrário\\}$\n",
        "  * $U(0,1)$ é um valor aleatório entre 0 e 1\n",
        "  * $sig(v_{i,d}(t+1)) = {1 \\over 1+exp(-v_{i,d}(t+1))}$\n",
        "\n",
        "> A melhor localização da partícula ($p_i$) também é atualizada caso necessário:\n",
        "* $p_i(t + 1) = p_i(t), se f(x_i(t)) ≤ f(p_i(t))$\n",
        "* $p_i(t + 1) = x_i(t), se f(x_i(t)) > f(p_i(t))$\n",
        "\n",
        "> Após a atualização das melhores posições de cada partícula, é verificado se a melhor posição global (g) precisa ser atualizada:\n",
        "* Escolhe:\n",
        "  * $p̂(t + 1)$ ∈ {$p_1(t + 1), ... ,p_n(t + 1)$}\n",
        "* tal que:\n",
        "  * $f(p̂(t + 1))$ = max{$f(p_1(t + 1)), ... ,f(p_n(t + 1))$}\n",
        "* Assim:\n",
        "  * $g(t + 1) = g(t), se f(g(t)) > f(p̂(t + 1))$\n",
        "  * $g(t + 1) = p̂(t + 1), se f(g(t)) ≤ f(p̂(t + 1))$\n",
        "\n",
        "> Através do uso do pacote PySwarms, os detalhes do funcionamento do algoritmo são transparentes ao usuário. Entretanto, ainda é preciso definir os hiperparâmetros utilizados pela equação de velocidade, bem como o número de partículas e iterações do algoritmo."
      ]
    },
    {
      "cell_type": "code",
      "metadata": {
        "colab": {
          "base_uri": "https://localhost:8080/"
        },
        "id": "o660WUMlOFrZ",
        "outputId": "21f65cd8-de7f-40c3-b363-65743d1399f4"
      },
      "source": [
        "#[3] Hiperparâmetros e Otimização\n",
        "\n",
        "numParticles = 10\n",
        "\n",
        "while(True):\n",
        "  numParticles = int(input('Digite o número de partículas [>=10]: '))\n",
        "  if (numParticles >= 10):\n",
        "    break\n",
        "  else:\n",
        "    print('O número de partículas deve ser maior ou igual a 10!')\n",
        "\n",
        "numIters = 10\n",
        "\n",
        "while(True):\n",
        "  numIters = int(input('Digite o número de iterações do algoritmo [>=10]: '))\n",
        "  if (numIters >= 10):\n",
        "    break\n",
        "  else:\n",
        "    print('Use no mínimo 10 iterações!')\n",
        "\n",
        "# hiperparâmetros\n",
        "options = {'c1': 0.5, 'c2': 0.3, 'w':1, 'k':(numParticles-1), 'p':1}\n",
        "\n",
        "# instanciação de objeto da classe BinaryPSO\n",
        "optimizer = ps.discrete.binary.BinaryPSO(n_particles=numParticles, dimensions=len(roads), options=options, velocity_clamp=(-3,3))\n",
        "\n",
        "# execução da otimização\n",
        "cost, pos = optimizer.optimize(evalRoutes, iters=numIters)\n",
        "\n",
        "print('Custo = ', cost)\n",
        "\n",
        "validArcs = np.where(pos==1)[0]\n",
        "print('Arcos: ')\n",
        "for arc in validArcs:\n",
        "  print(roads[arc])"
      ],
      "execution_count": null,
      "outputs": [
        {
          "output_type": "stream",
          "text": [
            "Digite o número de partículas [>=10]: 10\n",
            "Digite o número de iterações do algoritmo [>=10]: 10\n"
          ],
          "name": "stdout"
        },
        {
          "output_type": "stream",
          "text": [
            "2021-06-08 19:56:24,178 - pyswarms.discrete.binary - INFO - Optimize for 10 iters with {'c1': 0.5, 'c2': 0.3, 'w': 1, 'k': 9, 'p': 1}\n",
            "pyswarms.discrete.binary: 100%|██████████|10/10, best_cost=171\n",
            "2021-06-08 19:56:24,222 - pyswarms.discrete.binary - INFO - Optimization finished | best cost: 171.0, best pos: [0 1 0 1 1 1 0 0 0 1]\n"
          ],
          "name": "stderr"
        },
        {
          "output_type": "stream",
          "text": [
            "Custo =  171.0\n",
            "Arcos: \n",
            "(0, 2, 31)\n",
            "(0, 4, 44)\n",
            "(1, 2, 35)\n",
            "(1, 3, 28)\n",
            "(3, 4, 33)\n"
          ],
          "name": "stdout"
        }
      ]
    }
  ]
}